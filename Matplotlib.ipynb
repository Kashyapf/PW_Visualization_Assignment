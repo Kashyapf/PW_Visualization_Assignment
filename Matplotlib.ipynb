{
 "cells": [
  {
   "cell_type": "code",
   "execution_count": 1,
   "id": "ba1b1594-7c2b-494e-b855-672561f45bed",
   "metadata": {},
   "outputs": [],
   "source": [
    "import pandas as pd\n",
    "import numpy as np\n",
    "import matplotlib.pyplot as plt"
   ]
  },
  {
   "cell_type": "code",
   "execution_count": 3,
   "id": "317d643c-38a0-4c64-a147-d94b5d354c50",
   "metadata": {},
   "outputs": [],
   "source": [
    "x = np.random.rand(50)\n",
    "y = np.random.rand(50)"
   ]
  },
  {
   "cell_type": "code",
   "execution_count": 5,
   "id": "d1099815-52cc-4d6c-8590-21dc9a7aeac2",
   "metadata": {},
   "outputs": [
    {
     "data": {
      "text/plain": [
       "array([0.24661576, 0.16372947, 0.82387766, 0.95679925, 0.48896491,\n",
       "       0.53362756, 0.07987204, 0.76189702, 0.89067569, 0.02848236,\n",
       "       0.76712788, 0.77411807, 0.48078451, 0.76761203, 0.68928606,\n",
       "       0.12283561, 0.49318101, 0.39319886, 0.35959459, 0.31442644,\n",
       "       0.9212444 , 0.89367642, 0.71530019, 0.16561347, 0.89564028,\n",
       "       0.46050642, 0.25857194, 0.43327592, 0.48419847, 0.36753846,\n",
       "       0.42934233, 0.54421514, 0.40608272, 0.46532507, 0.82143817,\n",
       "       0.08214857, 0.7469569 , 0.26298433, 0.79881637, 0.62293137,\n",
       "       0.12629301, 0.40248772, 0.64031472, 0.46749148, 0.01288451,\n",
       "       0.61016916, 0.4315993 , 0.33851635, 0.86476213, 0.54314541])"
      ]
     },
     "execution_count": 5,
     "metadata": {},
     "output_type": "execute_result"
    }
   ],
   "source": [
    "x"
   ]
  },
  {
   "cell_type": "code",
   "execution_count": 6,
   "id": "b446e50b-9518-42ca-9ee9-b755a267a380",
   "metadata": {},
   "outputs": [
    {
     "data": {
      "text/plain": [
       "array([0.47574962, 0.43766014, 0.31159982, 0.76128284, 0.28779798,\n",
       "       0.42573803, 0.99778207, 0.28818573, 0.60025031, 0.54286729,\n",
       "       0.22420414, 0.66765914, 0.42231159, 0.67068857, 0.64151739,\n",
       "       0.21718593, 0.55602913, 0.40718025, 0.31634282, 0.21038205,\n",
       "       0.48092373, 0.17861611, 0.68664286, 0.09333724, 0.64743056,\n",
       "       0.87128193, 0.72436551, 0.93060124, 0.77521744, 0.55459867,\n",
       "       0.07626767, 0.92635337, 0.66287986, 0.54013916, 0.92136553,\n",
       "       0.99894532, 0.27422719, 0.40379165, 0.07873392, 0.8178955 ,\n",
       "       0.35925816, 0.17285156, 0.40313425, 0.31647751, 0.2334887 ,\n",
       "       0.37100393, 0.78615107, 0.01492208, 0.26463862, 0.44911952])"
      ]
     },
     "execution_count": 6,
     "metadata": {},
     "output_type": "execute_result"
    }
   ],
   "source": [
    "y"
   ]
  },
  {
   "cell_type": "code",
   "execution_count": 32,
   "id": "475e9969-795a-463f-9a64-d1525af2c8da",
   "metadata": {},
   "outputs": [],
   "source": [
    "# plt.scatter(x,y)  # We use the scatter plot to show the relationship between two variables X and Y"
   ]
  },
  {
   "cell_type": "code",
   "execution_count": 9,
   "id": "88c5f726-0998-482e-b7b2-11eab12f3406",
   "metadata": {},
   "outputs": [
    {
     "data": {
      "text/plain": [
       "<matplotlib.collections.PathCollection at 0x7f1adebce920>"
      ]
     },
     "execution_count": 9,
     "metadata": {},
     "output_type": "execute_result"
    },
    {
     "data": {
      "image/png": "[encoded data removed]",
      "text/plain": [
       "<Figure size 640x480 with 1 Axes>"
      ]
     },
     "metadata": {},
     "output_type": "display_data"
    }
   ],
   "source": [
    "# 1. Create a scatter plot using Matplotlib to visualize the relationship between two arrays, x and y for the given\n",
    "# data.\n",
    "\n",
    "# x = [1, 2, 3, 4, 5, 6, 7, 8, 9, 10]\n",
    "#y = [2, 4, 5, 7, 6, 8, 9, 10, 12, 13]\n",
    "\n",
    "x = [1, 2, 3, 4, 5, 6, 7, 8, 9, 10]\n",
    "y = [2, 4, 5, 7, 6, 8, 9, 10, 12, 13]\n",
    "\n",
    "plt.scatter(x,y)   "
   ]
  },
  {
   "cell_type": "code",
   "execution_count": 21,
   "id": "121bef62-ef28-4cff-83f1-dbf4a7c1dc0e",
   "metadata": {},
   "outputs": [],
   "source": [
    "# Line plot :- Whenever the time componment is involved in the X axis\n",
    "#              Depicts the relationship between two variables in the trends.\n",
    "\n",
    "df = pd.DataFrame(np.random.randn(1000),columns=['data'],index = pd.date_range(\"2024-06-15\",periods=1000))"
   ]
  },
  {
   "cell_type": "code",
   "execution_count": 12,
   "id": "073cdea1-c76f-414c-af05-cdca21162b1d",
   "metadata": {},
   "outputs": [
    {
     "data": {
      "text/html": [
       "<div>\n",
       "<style scoped>\n",
       "    .dataframe tbody tr th:only-of-type {\n",
       "        vertical-align: middle;\n",
       "    }\n",
       "\n",
       "    .dataframe tbody tr th {\n",
       "        vertical-align: top;\n",
       "    }\n",
       "\n",
       "    .dataframe thead th {\n",
       "        text-align: right;\n",
       "    }\n",
       "</style>\n",
       "<table border=\"1\" class=\"dataframe\">\n",
       "  <thead>\n",
       "    <tr style=\"text-align: right;\">\n",
       "      <th></th>\n",
       "      <th>data</th>\n",
       "    </tr>\n",
       "  </thead>\n",
       "  <tbody>\n",
       "    <tr>\n",
       "      <th>2024-06-15</th>\n",
       "      <td>-0.784973</td>\n",
       "    </tr>\n",
       "    <tr>\n",
       "      <th>2024-06-16</th>\n",
       "      <td>-0.698919</td>\n",
       "    </tr>\n",
       "    <tr>\n",
       "      <th>2024-06-17</th>\n",
       "      <td>-1.067025</td>\n",
       "    </tr>\n",
       "    <tr>\n",
       "      <th>2024-06-18</th>\n",
       "      <td>1.368576</td>\n",
       "    </tr>\n",
       "    <tr>\n",
       "      <th>2024-06-19</th>\n",
       "      <td>0.259420</td>\n",
       "    </tr>\n",
       "    <tr>\n",
       "      <th>...</th>\n",
       "      <td>...</td>\n",
       "    </tr>\n",
       "    <tr>\n",
       "      <th>2027-03-07</th>\n",
       "      <td>-0.839852</td>\n",
       "    </tr>\n",
       "    <tr>\n",
       "      <th>2027-03-08</th>\n",
       "      <td>-0.576213</td>\n",
       "    </tr>\n",
       "    <tr>\n",
       "      <th>2027-03-09</th>\n",
       "      <td>-2.060832</td>\n",
       "    </tr>\n",
       "    <tr>\n",
       "      <th>2027-03-10</th>\n",
       "      <td>-0.784819</td>\n",
       "    </tr>\n",
       "    <tr>\n",
       "      <th>2027-03-11</th>\n",
       "      <td>0.929059</td>\n",
       "    </tr>\n",
       "  </tbody>\n",
       "</table>\n",
       "<p>1000 rows × 1 columns</p>\n",
       "</div>"
      ],
      "text/plain": [
       "                data\n",
       "2024-06-15 -0.784973\n",
       "2024-06-16 -0.698919\n",
       "2024-06-17 -1.067025\n",
       "2024-06-18  1.368576\n",
       "2024-06-19  0.259420\n",
       "...              ...\n",
       "2027-03-07 -0.839852\n",
       "2027-03-08 -0.576213\n",
       "2027-03-09 -2.060832\n",
       "2027-03-10 -0.784819\n",
       "2027-03-11  0.929059\n",
       "\n",
       "[1000 rows x 1 columns]"
      ]
     },
     "execution_count": 12,
     "metadata": {},
     "output_type": "execute_result"
    }
   ],
   "source": [
    "df"
   ]
  },
  {
   "cell_type": "code",
   "execution_count": 52,
   "id": "33e4df8c-57c2-4797-9289-8c51fbb46f80",
   "metadata": {},
   "outputs": [],
   "source": [
    "# df.plot(figsize = (20,8))"
   ]
  },
  {
   "cell_type": "code",
   "execution_count": 28,
   "id": "fe8733fe-74c6-47b7-82d6-79037b6225fe",
   "metadata": {},
   "outputs": [],
   "source": [
    "# 2. Generate a line plot to visualize the trend of values for the given data.\n",
    "#  data = np.array([3, 7, 9, 15, 22, 29, 35])\n",
    "data = np.array([3, 7, 9, 15, 22, 29, 35])\n",
    "df2 = pd.DataFrame(data,columns=['data'],index = pd.date_range('2024-06-07',periods=7))\n"
   ]
  },
  {
   "cell_type": "code",
   "execution_count": 23,
   "id": "9fa54c80-9ef6-4d6a-90bb-42311b232c4b",
   "metadata": {},
   "outputs": [
    {
     "data": {
      "text/html": [
       "<div>\n",
       "<style scoped>\n",
       "    .dataframe tbody tr th:only-of-type {\n",
       "        vertical-align: middle;\n",
       "    }\n",
       "\n",
       "    .dataframe tbody tr th {\n",
       "        vertical-align: top;\n",
       "    }\n",
       "\n",
       "    .dataframe thead th {\n",
       "        text-align: right;\n",
       "    }\n",
       "</style>\n",
       "<table border=\"1\" class=\"dataframe\">\n",
       "  <thead>\n",
       "    <tr style=\"text-align: right;\">\n",
       "      <th></th>\n",
       "      <th>data</th>\n",
       "    </tr>\n",
       "  </thead>\n",
       "  <tbody>\n",
       "    <tr>\n",
       "      <th>2024-06-07</th>\n",
       "      <td>3</td>\n",
       "    </tr>\n",
       "    <tr>\n",
       "      <th>2024-06-08</th>\n",
       "      <td>7</td>\n",
       "    </tr>\n",
       "    <tr>\n",
       "      <th>2024-06-09</th>\n",
       "      <td>9</td>\n",
       "    </tr>\n",
       "    <tr>\n",
       "      <th>2024-06-10</th>\n",
       "      <td>15</td>\n",
       "    </tr>\n",
       "    <tr>\n",
       "      <th>2024-06-11</th>\n",
       "      <td>22</td>\n",
       "    </tr>\n",
       "    <tr>\n",
       "      <th>2024-06-12</th>\n",
       "      <td>29</td>\n",
       "    </tr>\n",
       "    <tr>\n",
       "      <th>2024-06-13</th>\n",
       "      <td>35</td>\n",
       "    </tr>\n",
       "  </tbody>\n",
       "</table>\n",
       "</div>"
      ],
      "text/plain": [
       "            data\n",
       "2024-06-07     3\n",
       "2024-06-08     7\n",
       "2024-06-09     9\n",
       "2024-06-10    15\n",
       "2024-06-11    22\n",
       "2024-06-12    29\n",
       "2024-06-13    35"
      ]
     },
     "execution_count": 23,
     "metadata": {},
     "output_type": "execute_result"
    }
   ],
   "source": [
    "df2"
   ]
  },
  {
   "cell_type": "code",
   "execution_count": 29,
   "id": "66a7cb7a-f77a-49fe-b4d9-a4584cbcca03",
   "metadata": {},
   "outputs": [
    {
     "data": {
      "text/plain": [
       "<AxesSubplot: >"
      ]
     },
     "execution_count": 29,
     "metadata": {},
     "output_type": "execute_result"
    },
    {
     "data": {
      "image/png": "[encoded data removed]",
      "text/plain": [
       "<Figure size 2000x800 with 1 Axes>"
      ]
     },
     "metadata": {},
     "output_type": "display_data"
    }
   ],
   "source": [
    "df2.plot(figsize=(20,8))"
   ]
  },
  {
   "cell_type": "code",
   "execution_count": 53,
   "id": "bf8ccc7c-5cf8-4efa-b47c-f7d0e89a6d02",
   "metadata": {},
   "outputs": [],
   "source": [
    "# LINE CHART :- IS TO UNDERSTAND THE NUMERICAL TRENDS\n",
    "\n",
    "# x=[1,2,3,4,5]\n",
    "# y=[5,1,7,2,8]\n",
    "# plt.plot(x,y)\n",
    "# plt.title(\"line plot to understand the syntax\")\n",
    "# plt.xlabel(\"X Points\")\n",
    "# plt.ylabel(\"Y Points\")"
   ]
  },
  {
   "cell_type": "code",
   "execution_count": 31,
   "id": "27be856b-6ffd-4142-b838-c016ad48e9f2",
   "metadata": {},
   "outputs": [],
   "source": [
    "# x=np.linspace(0,10,100)\n",
    "# x"
   ]
  },
  {
   "cell_type": "code",
   "execution_count": 23,
   "id": "f15001c2-974d-4d03-9722-fc068bbc444d",
   "metadata": {},
   "outputs": [],
   "source": [
    "# plt.plot(x,np.sin(x),\"-.\")\n",
    "# plt.plot(x,np.cos(x),\".-\")"
   ]
  },
  {
   "cell_type": "code",
   "execution_count": 22,
   "id": "89e2d755-b597-4cb8-9e9b-a0dd27d4b79f",
   "metadata": {},
   "outputs": [],
   "source": [
    "# plt.figure()\n",
    "# plt.subplot(1,2,1)\n",
    "# plt.plot(x,np.sin(x))\n",
    "# plt.subplot(1,2,2)\n",
    "# plt.plot(x,np.cos(x))\n",
    "# plt.show()"
   ]
  },
  {
   "cell_type": "code",
   "execution_count": 20,
   "id": "04fa215f-a3d1-4536-bc6e-b05cd6208624",
   "metadata": {},
   "outputs": [],
   "source": [
    "# plt.figure(figsize=(10,8))\n",
    "# # Four subplots 2 rows and 2 columns \n",
    "# plt.subplot(2,2,1)\n",
    "# plt.plot(x,np.sin(x))\n",
    "\n",
    "# plt.subplot(2,2,2)\n",
    "# plt.plot(x,np.cos(x))\n",
    "\n",
    "# plt.subplot(2,2,3)\n",
    "# plt.plot(x,np.tan(x))\n",
    "\n",
    "# plt.subplot(2,2,4)\n",
    "# plt.plot(y,np.tan(y))"
   ]
  },
  {
   "cell_type": "code",
   "execution_count": null,
   "id": "cf19d2ff-d7e7-4fa5-9dac-28c8c4eb9649",
   "metadata": {},
   "outputs": [],
   "source": [
    "# BAR PLOT >> TO UNDERSTAND THE RELATIONSHIP BETWEEN CATEGORIAL DATA"
   ]
  },
  {
   "cell_type": "code",
   "execution_count": 49,
   "id": "4a8227ad-835a-4f70-bea1-91aa290c4e5d",
   "metadata": {},
   "outputs": [],
   "source": [
    "# x = ['a','b','c','d']\n",
    "# y = [4,5,2,6]\n",
    "# plt.bar(x , y, color=\"r\")"
   ]
  },
  {
   "cell_type": "code",
   "execution_count": 51,
   "id": "99209158-bebe-4001-bade-66e3d1ede3c5",
   "metadata": {},
   "outputs": [
    {
     "data": {
      "text/plain": [
       "<BarContainer object of 4 artists>"
      ]
     },
     "execution_count": 51,
     "metadata": {},
     "output_type": "execute_result"
    },
    {
     "data": {
      "image/png": "[encoded data removed]",
      "text/plain": [
       "<Figure size 640x480 with 1 Axes>"
      ]
     },
     "metadata": {},
     "output_type": "display_data"
    }
   ],
   "source": [
    "# 3. Display a bar chart to represent the frequency of each item in the given array categories.\n",
    "#    categories = ['A', 'B', 'C', 'D', 'E']\n",
    "#    values = [25, 40, 30, 35, 20]\n",
    "categories = ['A', 'B', 'C', 'D', 'E']\n",
    "values = [25, 40, 30, 35, 20]\n",
    "plt.barh(x,y,color='b')"
   ]
  },
  {
   "cell_type": "code",
   "execution_count": 47,
   "id": "9a5d78d4-ae3a-4b82-a1d0-8fa8260cf26e",
   "metadata": {},
   "outputs": [],
   "source": [
    "# HISTOGRAM >> CONTINUOUS DATA AND HOW DATA IS DISTRIBUTED \n",
    "# data=np.random.rand(1000) #10 bins\n",
    "# plt.hist(data,color='g',bins=20)\n",
    "# plt.show()"
   ]
  },
  {
   "cell_type": "code",
   "execution_count": 39,
   "id": "bf9de8de-4d03-4ab5-9584-b018f649feb1",
   "metadata": {},
   "outputs": [
    {
     "data": {
      "text/plain": [
       "array([-0.50954976,  1.04907335,  1.40003162, ..., -0.61891939,\n",
       "        0.04939184,  2.10774696])"
      ]
     },
     "execution_count": 39,
     "metadata": {},
     "output_type": "execute_result"
    }
   ],
   "source": [
    "# Stacked Histogram\n",
    "\n",
    "data1 = np.random.normal(0,1,5000)\n",
    "data2 = np.random.normal(0,1,5000)\n",
    "data1\n",
    "data2"
   ]
  },
  {
   "cell_type": "code",
   "execution_count": 46,
   "id": "44eff214-05a8-49ba-bafe-ec9a963811a1",
   "metadata": {},
   "outputs": [],
   "source": [
    "# plt.hist([data1,data2],bins = 20,color=['r','b'],label=['data1','data2'])\n",
    "# plt.xlabel('Values')\n",
    "# plt.ylabel(\"Frequency\")\n",
    "# plt.title(\"Stacked Histogram\")\n",
    "# plt.show()\n",
    "         "
   ]
  },
  {
   "cell_type": "code",
   "execution_count": 45,
   "id": "ea092c3f-9731-434e-b05a-8464b034a27a",
   "metadata": {},
   "outputs": [
    {
     "data": {
      "image/png": "[encoded data removed]",
      "text/plain": [
       "<Figure size 640x480 with 1 Axes>"
      ]
     },
     "metadata": {},
     "output_type": "display_data"
    }
   ],
   "source": [
    "# 4. Create a histogram to visualize the distribution of values in the array data\n",
    "#     data = np.random.normal(0, 1, 1000)\n",
    "\n",
    "data = np.random.normal(0, 1, 1000)\n",
    "plt.hist(data,bins=20,color='r',label='data')\n",
    "plt.xlabel(\"values\")\n",
    "plt.ylabel(\"Frequency\")\n",
    "plt.show()\n",
    "         "
   ]
  },
  {
   "cell_type": "code",
   "execution_count": 54,
   "id": "6f3a44b8-2175-4b28-9605-1651c9dc6fbb",
   "metadata": {},
   "outputs": [],
   "source": [
    "# PIE CHART :- IT HELPS YOU TO UNDERSTAND THE PERCENTAGE DISTRIBUTION OF DATA"
   ]
  },
  {
   "cell_type": "code",
   "execution_count": 59,
   "id": "b1a1669b-3d3a-4f1b-a711-cb4c9dd29955",
   "metadata": {},
   "outputs": [],
   "source": [
    "# language = ['C','java','python']\n",
    "# students = [20,50,100]\n",
    "# plt.pie(students, labels = language)"
   ]
  },
  {
   "cell_type": "code",
   "execution_count": 65,
   "id": "d6dc67ab-6042-4303-83a8-9037796e0477",
   "metadata": {},
   "outputs": [
    {
     "data": {
      "text/plain": [
       "([<matplotlib.patches.Wedge at 0x7f08ea708b20>,\n",
       "  <matplotlib.patches.Wedge at 0x7f08ea8dfb50>,\n",
       "  <matplotlib.patches.Wedge at 0x7f08ea709630>,\n",
       "  <matplotlib.patches.Wedge at 0x7f08ea709cc0>],\n",
       " [Text(0.7778174593052024, 0.7778174593052023, 'Section A'),\n",
       "  Text(-0.9708204196655013, 0.7053422663930613, 'Section B'),\n",
       "  Text(-0.7778173864806728, -0.777817532129725, 'Section C'),\n",
       "  Text(0.8228995228796808, -1.1326236688522775, 'Section D')],\n",
       " [Text(0.4242640687119285, 0.42426406871192845, '25.0%'),\n",
       "  Text(-0.5663119114715424, 0.41144965539595235, '30.0%'),\n",
       "  Text(-0.4242640289894578, -0.42426410843439544, '15.0%'),\n",
       "  Text(0.5290068361369377, -0.7281152156907498, '30.0%')])"
      ]
     },
     "execution_count": 65,
     "metadata": {},
     "output_type": "execute_result"
    },
    {
     "data": {
      "image/png": "[encoded data removed]",
      "text/plain": [
       "<Figure size 640x480 with 1 Axes>"
      ]
     },
     "metadata": {},
     "output_type": "display_data"
    }
   ],
   "source": [
    "# 5. Show a pie chart to represent the percentage distribution of different sections in the array `sections`.\n",
    "#    sections = ['Section A', 'Section B', 'Section C', 'Section D'] ",
    "\n",
    "     # sizes = [25, 30, 15, 30]\n",
    "Explode = (0.0,0.1,0.0,0.3)\n",
    "sections = ['Section A', 'Section B', 'Section C', 'Section D']\n",
    "sizes = [25, 30, 15, 30]\n",
    "plt.pie(sizes , labels = sections,autopct = \"%1.1f%%\",explode = Explode)\n",
    "    "
   ]
  },
  {
   "cell_type": "code",
   "execution_count": 67,
   "id": "28c7023e-1182-478a-a5a4-387b0c70cd03",
   "metadata": {},
   "outputs": [],
   "source": [
    "# 3D PLOT\n",
    "\n",
    "# X=np.random.rand(20)\n",
    "# Y=np.random.rand(20)\n",
    "# Z=np.random.rand(20)\n",
    "# fig = plt.figure()\n",
    "# ax = fig.add_subplot(projection = \"3d\")\n",
    "# ax.scatter(X,Y,Z,c='red')"
   ]
  },
  {
   "cell_type": "code",
   "execution_count": 70,
   "id": "2dcebe4b-8bc2-4eae-b830-f79d8ad369a3",
   "metadata": {},
   "outputs": [],
   "source": [
    "# PLOT USING REAL DATA\n"
   ]
  },
  {
   "cell_type": "code",
   "execution_count": 71,
   "id": "f9310ca0-937e-41ca-9437-9f1de7d3e899",
   "metadata": {},
   "outputs": [],
   "source": [
    "data = pd.read_csv(\"Bank_churn.csv\")"
   ]
  },
  {
   "cell_type": "code",
   "execution_count": 72,
   "id": "cf6c4a7e-dcd7-425c-a894-ff61984410cd",
   "metadata": {},
   "outputs": [
    {
     "data": {
      "text/html": [
       "<div>\n",
       "<style scoped>\n",
       "    .dataframe tbody tr th:only-of-type {\n",
       "        vertical-align: middle;\n",
       "    }\n",
       "\n",
       "    .dataframe tbody tr th {\n",
       "        vertical-align: top;\n",
       "    }\n",
       "\n",
       "    .dataframe thead th {\n",
       "        text-align: right;\n",
       "    }\n",
       "</style>\n",
       "<table border=\"1\" class=\"dataframe\">\n",
       "  <thead>\n",
       "    <tr style=\"text-align: right;\">\n",
       "      <th></th>\n",
       "      <th>RowNumber</th>\n",
       "      <th>CustomerId</th>\n",
       "      <th>Surname</th>\n",
       "      <th>CreditScore</th>\n",
       "      <th>Geography</th>\n",
       "      <th>Gender</th>\n",
       "      <th>Age</th>\n",
       "      <th>Tenure</th>\n",
       "      <th>Balance</th>\n",
       "      <th>NumOfProducts</th>\n",
       "      <th>HasCrCard</th>\n",
       "      <th>IsActiveMember</th>\n",
       "      <th>EstimatedSalary</th>\n",
       "      <th>Exited</th>\n",
       "    </tr>\n",
       "  </thead>\n",
       "  <tbody>\n",
       "    <tr>\n",
       "      <th>0</th>\n",
       "      <td>1</td>\n",
       "      <td>15634602</td>\n",
       "      <td>Hargrave</td>\n",
       "      <td>619</td>\n",
       "      <td>France</td>\n",
       "      <td>Female</td>\n",
       "      <td>42</td>\n",
       "      <td>2</td>\n",
       "      <td>0.00</td>\n",
       "      <td>1</td>\n",
       "      <td>1</td>\n",
       "      <td>1</td>\n",
       "      <td>101348.88</td>\n",
       "      <td>1</td>\n",
       "    </tr>\n",
       "    <tr>\n",
       "      <th>1</th>\n",
       "      <td>2</td>\n",
       "      <td>15647311</td>\n",
       "      <td>Hill</td>\n",
       "      <td>608</td>\n",
       "      <td>Spain</td>\n",
       "      <td>Female</td>\n",
       "      <td>41</td>\n",
       "      <td>1</td>\n",
       "      <td>83807.86</td>\n",
       "      <td>1</td>\n",
       "      <td>0</td>\n",
       "      <td>1</td>\n",
       "      <td>112542.58</td>\n",
       "      <td>0</td>\n",
       "    </tr>\n",
       "    <tr>\n",
       "      <th>2</th>\n",
       "      <td>3</td>\n",
       "      <td>15619304</td>\n",
       "      <td>Onio</td>\n",
       "      <td>502</td>\n",
       "      <td>France</td>\n",
       "      <td>Female</td>\n",
       "      <td>42</td>\n",
       "      <td>8</td>\n",
       "      <td>159660.80</td>\n",
       "      <td>3</td>\n",
       "      <td>1</td>\n",
       "      <td>0</td>\n",
       "      <td>113931.57</td>\n",
       "      <td>1</td>\n",
       "    </tr>\n",
       "    <tr>\n",
       "      <th>3</th>\n",
       "      <td>4</td>\n",
       "      <td>15701354</td>\n",
       "      <td>Boni</td>\n",
       "      <td>699</td>\n",
       "      <td>France</td>\n",
       "      <td>Female</td>\n",
       "      <td>39</td>\n",
       "      <td>1</td>\n",
       "      <td>0.00</td>\n",
       "      <td>2</td>\n",
       "      <td>0</td>\n",
       "      <td>0</td>\n",
       "      <td>93826.63</td>\n",
       "      <td>0</td>\n",
       "    </tr>\n",
       "    <tr>\n",
       "      <th>4</th>\n",
       "      <td>5</td>\n",
       "      <td>15737888</td>\n",
       "      <td>Mitchell</td>\n",
       "      <td>850</td>\n",
       "      <td>Spain</td>\n",
       "      <td>Female</td>\n",
       "      <td>43</td>\n",
       "      <td>2</td>\n",
       "      <td>125510.82</td>\n",
       "      <td>1</td>\n",
       "      <td>1</td>\n",
       "      <td>1</td>\n",
       "      <td>79084.10</td>\n",
       "      <td>0</td>\n",
       "    </tr>\n",
       "    <tr>\n",
       "      <th>...</th>\n",
       "      <td>...</td>\n",
       "      <td>...</td>\n",
       "      <td>...</td>\n",
       "      <td>...</td>\n",
       "      <td>...</td>\n",
       "      <td>...</td>\n",
       "      <td>...</td>\n",
       "      <td>...</td>\n",
       "      <td>...</td>\n",
       "      <td>...</td>\n",
       "      <td>...</td>\n",
       "      <td>...</td>\n",
       "      <td>...</td>\n",
       "      <td>...</td>\n",
       "    </tr>\n",
       "    <tr>\n",
       "      <th>9995</th>\n",
       "      <td>9996</td>\n",
       "      <td>15606229</td>\n",
       "      <td>Obijiaku</td>\n",
       "      <td>771</td>\n",
       "      <td>France</td>\n",
       "      <td>Male</td>\n",
       "      <td>39</td>\n",
       "      <td>5</td>\n",
       "      <td>0.00</td>\n",
       "      <td>2</td>\n",
       "      <td>1</td>\n",
       "      <td>0</td>\n",
       "      <td>96270.64</td>\n",
       "      <td>0</td>\n",
       "    </tr>\n",
       "    <tr>\n",
       "      <th>9996</th>\n",
       "      <td>9997</td>\n",
       "      <td>15569892</td>\n",
       "      <td>Johnstone</td>\n",
       "      <td>516</td>\n",
       "      <td>France</td>\n",
       "      <td>Male</td>\n",
       "      <td>35</td>\n",
       "      <td>10</td>\n",
       "      <td>57369.61</td>\n",
       "      <td>1</td>\n",
       "      <td>1</td>\n",
       "      <td>1</td>\n",
       "      <td>101699.77</td>\n",
       "      <td>0</td>\n",
       "    </tr>\n",
       "    <tr>\n",
       "      <th>9997</th>\n",
       "      <td>9998</td>\n",
       "      <td>15584532</td>\n",
       "      <td>Liu</td>\n",
       "      <td>709</td>\n",
       "      <td>France</td>\n",
       "      <td>Female</td>\n",
       "      <td>36</td>\n",
       "      <td>7</td>\n",
       "      <td>0.00</td>\n",
       "      <td>1</td>\n",
       "      <td>0</td>\n",
       "      <td>1</td>\n",
       "      <td>42085.58</td>\n",
       "      <td>1</td>\n",
       "    </tr>\n",
       "    <tr>\n",
       "      <th>9998</th>\n",
       "      <td>9999</td>\n",
       "      <td>15682355</td>\n",
       "      <td>Sabbatini</td>\n",
       "      <td>772</td>\n",
       "      <td>Germany</td>\n",
       "      <td>Male</td>\n",
       "      <td>42</td>\n",
       "      <td>3</td>\n",
       "      <td>75075.31</td>\n",
       "      <td>2</td>\n",
       "      <td>1</td>\n",
       "      <td>0</td>\n",
       "      <td>92888.52</td>\n",
       "      <td>1</td>\n",
       "    </tr>\n",
       "    <tr>\n",
       "      <th>9999</th>\n",
       "      <td>10000</td>\n",
       "      <td>15628319</td>\n",
       "      <td>Walker</td>\n",
       "      <td>792</td>\n",
       "      <td>France</td>\n",
       "      <td>Female</td>\n",
       "      <td>28</td>\n",
       "      <td>4</td>\n",
       "      <td>130142.79</td>\n",
       "      <td>1</td>\n",
       "      <td>1</td>\n",
       "      <td>0</td>\n",
       "      <td>38190.78</td>\n",
       "      <td>0</td>\n",
       "    </tr>\n",
       "  </tbody>\n",
       "</table>\n",
       "<p>10000 rows × 14 columns</p>\n",
       "</div>"
      ],
      "text/plain": [
       "      RowNumber  CustomerId    Surname  CreditScore Geography  Gender  Age  \\\n",
       "0             1    15634602   Hargrave          619    France  Female   42   \n",
       "1             2    15647311       Hill          608     Spain  Female   41   \n",
       "2             3    15619304       Onio          502    France  Female   42   \n",
       "3             4    15701354       Boni          699    France  Female   39   \n",
       "4             5    15737888   Mitchell          850     Spain  Female   43   \n",
       "...         ...         ...        ...          ...       ...     ...  ...   \n",
       "9995       9996    15606229   Obijiaku          771    France    Male   39   \n",
       "9996       9997    15569892  Johnstone          516    France    Male   35   \n",
       "9997       9998    15584532        Liu          709    France  Female   36   \n",
       "9998       9999    15682355  Sabbatini          772   Germany    Male   42   \n",
       "9999      10000    15628319     Walker          792    France  Female   28   \n",
       "\n",
       "      Tenure    Balance  NumOfProducts  HasCrCard  IsActiveMember  \\\n",
       "0          2       0.00              1          1               1   \n",
       "1          1   83807.86              1          0               1   \n",
       "2          8  159660.80              3          1               0   \n",
       "3          1       0.00              2          0               0   \n",
       "4          2  125510.82              1          1               1   \n",
       "...      ...        ...            ...        ...             ...   \n",
       "9995       5       0.00              2          1               0   \n",
       "9996      10   57369.61              1          1               1   \n",
       "9997       7       0.00              1          0               1   \n",
       "9998       3   75075.31              2          1               0   \n",
       "9999       4  130142.79              1          1               0   \n",
       "\n",
       "      EstimatedSalary  Exited  \n",
       "0           101348.88       1  \n",
       "1           112542.58       0  \n",
       "2           113931.57       1  \n",
       "3            93826.63       0  \n",
       "4            79084.10       0  \n",
       "...               ...     ...  \n",
       "9995         96270.64       0  \n",
       "9996        101699.77       0  \n",
       "9997         42085.58       1  \n",
       "9998         92888.52       1  \n",
       "9999         38190.78       0  \n",
       "\n",
       "[10000 rows x 14 columns]"
      ]
     },
     "execution_count": 72,
     "metadata": {},
     "output_type": "execute_result"
    }
   ],
   "source": [
    "data"
   ]
  },
  {
   "cell_type": "code",
   "execution_count": 75,
   "id": "31ac98c7-15d1-4ce3-8663-eb2dddd71530",
   "metadata": {},
   "outputs": [
    {
     "data": {
      "text/plain": [
       "<matplotlib.collections.PathCollection at 0x7f08e8d0cee0>"
      ]
     },
     "execution_count": 75,
     "metadata": {},
     "output_type": "execute_result"
    },
    {
     "data": {
      "image/png": "[encoded data removed]",
      "text/plain": [
       "<Figure size 640x480 with 1 Axes>"
      ]
     },
     "metadata": {},
     "output_type": "display_data"
    }
   ],
   "source": [
    "plt.scatter(x = data['Age'],y=data['Balance'])"
   ]
  },
  {
   "cell_type": "code",
   "execution_count": 76,
   "id": "21a4f25b-32e0-4408-83de-63923aef4e68",
   "metadata": {},
   "outputs": [
    {
     "data": {
      "text/plain": [
       "(array([ 611., 2179., 3629., 1871.,  828.,  523.,  208.,  127.,   20.,\n",
       "           4.]),\n",
       " array([18. , 25.4, 32.8, 40.2, 47.6, 55. , 62.4, 69.8, 77.2, 84.6, 92. ]),\n",
       " <BarContainer object of 10 artists>)"
      ]
     },
     "execution_count": 76,
     "metadata": {},
     "output_type": "execute_result"
    },
    {
     "data": {
      "image/png": "[encoded data removed]",
      "text/plain": [
       "<Figure size 640x480 with 1 Axes>"
      ]
     },
     "metadata": {},
     "output_type": "display_data"
    }
   ],
   "source": [
    "plt.hist(data['Age'],color='r')"
   ]
  },
  {
   "cell_type": "code",
   "execution_count": 77,
   "id": "eb6be10d-b487-4816-bf40-71e5841a087b",
   "metadata": {},
   "outputs": [
    {
     "data": {
      "text/plain": [
       "(array([3.623e+03, 6.900e+01, 3.600e+02, 1.173e+03, 2.081e+03, 1.747e+03,\n",
       "        7.290e+02, 1.860e+02, 3.000e+01, 2.000e+00]),\n",
       " array([     0.   ,  25089.809,  50179.618,  75269.427, 100359.236,\n",
       "        125449.045, 150538.854, 175628.663, 200718.472, 225808.281,\n",
       "        250898.09 ]),\n",
       " <BarContainer object of 10 artists>)"
      ]
     },
     "execution_count": 77,
     "metadata": {},
     "output_type": "execute_result"
    },
    {
     "data": {
      "image/png": "[encoded data removed]",
      "text/plain": [
       "<Figure size 640x480 with 1 Axes>"
      ]
     },
     "metadata": {},
     "output_type": "display_data"
    }
   ],
   "source": [
    "plt.hist(data['Balance'],color='r')"
   ]
  },
  {
   "cell_type": "code",
   "execution_count": null,
   "id": "639f2f3c-77a3-4075-9333-aba6118cbdca",
   "metadata": {},
   "outputs": [],
   "source": []
  }
 ],
 "metadata": {
  "kernelspec": {
   "display_name": "Python 3 (ipykernel)",
   "language": "python",
   "name": "python3"
  },
  "language_info": {
   "codemirror_mode": {
    "name": "ipython",
    "version": 3
   },
   "file_extension": ".py",
   "mimetype": "text/x-python",
   "name": "python",
   "nbconvert_exporter": "python",
   "pygments_lexer": "ipython3",
   "version": "3.10.8"
  }
 },
 "nbformat": 4,
 "nbformat_minor": 5
}
