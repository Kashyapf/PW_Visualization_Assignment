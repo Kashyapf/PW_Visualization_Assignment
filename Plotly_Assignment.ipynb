{
 "cells": [
  {
   "cell_type": "code",
   "execution_count": 4,
   "id": "f6b71c03-63d4-4889-b47a-eb654924c400",
   "metadata": {},
   "outputs": [],
   "source": [
    "import plotly.graph_objects as go\n",
    "import plotly.express as px\n",
    "import numpy as np\n",
    "import pandas as pd"
   ]
  },
  {
   "cell_type": "code",
   "execution_count": 6,
   "id": "4f1ef5b7-7b1a-4b8d-9d4e-6c2ece22b5c9",
   "metadata": {},
   "outputs": [],
   "source": [
    "# 1. Using the given dataset, to generate a 3D scatter plot to visualize the distribution of data points in a threedimensional space.\n",
    "\n",
    "# np.random.seed(30)\n",
    "# data = {\n",
    "#     'X': np.random.uniform(-10, 10, 300),\n",
    "#     'Y': np.random.uniform(-10, 10, 300),\n",
    "#     'Z': np.random.uniform(-10, 10, 300)\n",
    "# }\n",
    "# df = pd.DataFrame(data)\n",
    "# np.random.seed(30)\n",
    "data = {\n",
    "    'X': np.random.uniform(-10, 10, 300),\n",
    "    'Y': np.random.uniform(-10, 10, 300),\n",
    "    'Z': np.random.uniform(-10, 10, 300)\n",
    "}\n",
    "df = pd.DataFrame(data)\n",
    "df\n",
    "\n",
    "fig = go.Figure()\n",
    "fig.add_trace(go.Scatter3d(x=df['X'],y=df['Y'],z=df['Z'],mode='markers'))"
   ]
  },
  {
   "cell_type": "code",
   "execution_count": null,
   "id": "515b1af6-518b-45c6-adfa-88e30713310d",
   "metadata": {},
   "outputs": [],
   "source": [
    "# 2. Using the Student Grades, create a violin plot to display the distribution of scores across different grade\n",
    "# categories.\n",
    "\n",
    "# np.random.seed(15)\n",
    "# data = {\n",
    "#     'Grade': np.random.choice(['A', 'B', 'C', 'D', 'F'], 200),\n",
    "#     'Score': np.random.randint(50, 100, 200)\n",
    "# }\n",
    "# df = pd.DataFrame(data)\n",
    "np.random.seed(15)\n",
    "data = {\n",
    "    'Grade': np.random.choice(['A', 'B', 'C', 'D', 'F'], 200),\n",
    "    'Score': np.random.randint(50, 100, 200)\n",
    "}\n",
    "df = pd.DataFrame(data) \n",
    "df\n",
    "\n",
    "fig = px.violin(df, y=\"Score\", x=\"Grade\", box=True, points=\"all\")\n",
    "fig.show()"
   ]
  },
  {
   "cell_type": "code",
   "execution_count": null,
   "id": "c15c03e8-0409-496f-8677-d9eadbbcb64f",
   "metadata": {},
   "outputs": [],
   "source": [
    "# Using the sales data, generate a heatmap to visualize the variation in sales across\n",
    "# different months and days.\n",
    "\n",
    "# np.random.seed(20)\n",
    "# data = {\n",
    "#     'Month': np.random.choice(['Jan', 'Feb', 'Mar', 'Apr', 'May'], 100),\n",
    "#     'Day': np.random.choice(range(1, 31), 100),\n",
    "#     'Sales': np.random.randint(1000, 5000, 100)\n",
    "# }\n",
    "# df = pd.DataFrame(data)\n",
    "\n",
    "np.random.seed(20)\n",
    "data = {\n",
    "    'Month': np.random.choice(['Jan', 'Feb', 'Mar', 'Apr', 'May'], 100),\n",
    "    'Day': np.random.choice(range(1, 31), 100),\n",
    "    'Sales': np.random.randint(1000, 5000, 100)\n",
    "}\n",
    "df = pd.DataFrame(data)\n",
    "df\n",
    "\n",
    "fig = px.imshow(df.pivot_table(index='Month', columns='Day', values='Sales'), aspect='auto')\n",
    "fig.show()"
   ]
  },
  {
   "cell_type": "code",
   "execution_count": null,
   "id": "0d953cac-7882-4e96-801a-916070adaba6",
   "metadata": {},
   "outputs": [],
   "source": [
    "# 4. Using the given x and y data, generate a 3D surface plot to visualize the function \n",
    "x = np.linspace(-5, 5, 100)\n",
    "y = np.linspace(-5, 5, 100)\n",
    "x, y = np.meshgrid(x, y)\n",
    "z = np.sin(np.sqrt(x**2 + y**2))\n",
    "data = {\n",
    "    'X': x.flatten(),\n",
    "    'Y': y.flatten(),\n",
    "    'Z': z.flatten()\n",
    "}\n",
    "df = pd.DataFrame(data)\n",
    "df\n",
    "\n",
    "fig = px.scatter_3d(df, x='X', y='Y', z='Z')\n",
    "fig.show()"
   ]
  },
  {
   "cell_type": "code",
   "execution_count": null,
   "id": "d522d2ba-3827-44bb-950e-5c4f365de0eb",
   "metadata": {},
   "outputs": [],
   "source": [
    "# 5. Using the given dataset, create a bubble chart to \n",
    "# represent each country's population (y-axis), GDP (xaxis), and bubble size proportional to the population.\n",
    "\n",
    "np.random.seed(25)\n",
    "data = {\n",
    "    'Country': [ \n",
    "                'USA', 'Canada', 'UK',\n",
    "                'Germany', 'France'\n",
    "              ],\n",
    "    'Population':\n",
    "np.random.randint(100, 1000, 5),'GDP': np.random.randint(500, 2000,5)\n",
    "}\n",
    "df = pd.DataFrame(data)\n",
    "df\n",
    "fig = px.scatter(df,x=\"GDP\",y=\"Population\",size=\"Population\",hover_name=\"Country\")\n",
    "fig.show()"
   ]
  }
 ],
 "metadata": {
  "kernelspec": {
   "display_name": "Python 3 (ipykernel)",
   "language": "python",
   "name": "python3"
  },
  "language_info": {
   "codemirror_mode": {
    "name": "ipython",
    "version": 3
   },
   "file_extension": ".py",
   "mimetype": "text/x-python",
   "name": "python",
   "nbconvert_exporter": "python",
   "pygments_lexer": "ipython3",
   "version": "3.10.8"
  }
 },
 "nbformat": 4,
 "nbformat_minor": 5
}
